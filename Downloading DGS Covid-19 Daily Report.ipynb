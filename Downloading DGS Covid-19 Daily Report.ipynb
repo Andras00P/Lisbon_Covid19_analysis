{
 "cells": [
  {
   "cell_type": "markdown",
   "metadata": {},
   "source": [
    "# Downloading DGS Covid-19 Daily Report"
   ]
  },
  {
   "cell_type": "markdown",
   "metadata": {},
   "source": [
    "## Importing Libraries"
   ]
  },
  {
   "cell_type": "code",
   "execution_count": 1,
   "metadata": {},
   "outputs": [],
   "source": [
    "# Importing Libraries\n",
    "import requests\n",
    "from scrapy import Selector\n",
    "import pandas as pd\n",
    "from os import path, makedirs"
   ]
  },
  {
   "cell_type": "markdown",
   "metadata": {},
   "source": [
    "## Creating reports id and date dataframe"
   ]
  },
  {
   "cell_type": "code",
   "execution_count": 2,
   "metadata": {},
   "outputs": [
    {
     "data": {
      "text/html": [
       "<div>\n",
       "<style scoped>\n",
       "    .dataframe tbody tr th:only-of-type {\n",
       "        vertical-align: middle;\n",
       "    }\n",
       "\n",
       "    .dataframe tbody tr th {\n",
       "        vertical-align: top;\n",
       "    }\n",
       "\n",
       "    .dataframe thead th {\n",
       "        text-align: right;\n",
       "    }\n",
       "</style>\n",
       "<table border=\"1\" class=\"dataframe\">\n",
       "  <thead>\n",
       "    <tr style=\"text-align: right;\">\n",
       "      <th></th>\n",
       "      <th>Report</th>\n",
       "      <th>Dates</th>\n",
       "    </tr>\n",
       "  </thead>\n",
       "  <tbody>\n",
       "    <tr>\n",
       "      <th>0</th>\n",
       "      <td>001</td>\n",
       "      <td>03032020</td>\n",
       "    </tr>\n",
       "    <tr>\n",
       "      <th>1</th>\n",
       "      <td>002</td>\n",
       "      <td>04032020</td>\n",
       "    </tr>\n",
       "    <tr>\n",
       "      <th>2</th>\n",
       "      <td>003</td>\n",
       "      <td>05032020</td>\n",
       "    </tr>\n",
       "    <tr>\n",
       "      <th>3</th>\n",
       "      <td>004</td>\n",
       "      <td>06032020</td>\n",
       "    </tr>\n",
       "    <tr>\n",
       "      <th>4</th>\n",
       "      <td>005</td>\n",
       "      <td>07032020</td>\n",
       "    </tr>\n",
       "  </tbody>\n",
       "</table>\n",
       "</div>"
      ],
      "text/plain": [
       "  Report     Dates\n",
       "0    001  03032020\n",
       "1    002  04032020\n",
       "2    003  05032020\n",
       "3    004  06032020\n",
       "4    005  07032020"
      ]
     },
     "execution_count": 2,
     "metadata": {},
     "output_type": "execute_result"
    }
   ],
   "source": [
    "# Creating reports id and date dataframe\n",
    "\n",
    "# Creating our dates \"list\"\n",
    "dates = pd.date_range(start=\"03-03-2020\", end=\"today\")\n",
    "\n",
    "# Creating our reports id list\n",
    "report = []\n",
    "for num in range(1, len(dates) + 1):\n",
    "    if num < 10:\n",
    "        report.append(\"00\" + str(num))\n",
    "    elif num < 100:\n",
    "        report.append(\"0\" + str(num))\n",
    "    else:\n",
    "        report.append(str(num))\n",
    "\n",
    "# Creating a dictionary of our to list\n",
    "report_dates = {\"Report\":report, \"Dates\":dates}\n",
    "\n",
    "# creating a dataframe using the previous built dictionary\n",
    "df_dates = pd.DataFrame(report_dates)\n",
    "\n",
    "# Changing the Dates column values, from timeindex to str and converting them \n",
    "# to the most common Portuguese date format\n",
    "df_dates[\"Dates\"] = df_dates[\"Dates\"].dt.strftime('%d-%m-%Y').apply(lambda x: x.replace(\"-\", \"\"))\n",
    "\n",
    "df_dates.head()"
   ]
  },
  {
   "cell_type": "markdown",
   "metadata": {},
   "source": [
    "## Scraping DGS Daily Reports webpage"
   ]
  },
  {
   "cell_type": "code",
   "execution_count": 3,
   "metadata": {},
   "outputs": [],
   "source": [
    "# Scraping DGS Daily Reports webpage\n",
    "dgs_page = requests.get('https://covid19.min-saude.pt/relatorio-de-situacao/').content\n",
    "sel = Selector(text=dgs_page)\n",
    "links = sel.xpath(\"//div[@class='single_content']//a/@href\")\n",
    "\n",
    "# Reversing our selector list to match our Report and Dates Dataframe\n",
    "links = links[::-1]\n",
    "\n",
    "# Creating a list of URL addressess by using the extractor method from scrapy selector\n",
    "# Our Range start at 5, because the first 5 links are for Informational Reports\n",
    "urls = [links[link].extract() for link in range(5, len(links))]\n",
    "\n",
    "# Removing an old link for the Report Nº 58 from our URL's list\n",
    "urls.remove(\"https://covid19.min-saude.pt/wp-content/uploads/2020/04/58_DGS_boletim_20200429.pdf\")"
   ]
  },
  {
   "cell_type": "markdown",
   "metadata": {},
   "source": [
    "## Function for downloading DGS PDF's"
   ]
  },
  {
   "cell_type": "code",
   "execution_count": 4,
   "metadata": {},
   "outputs": [],
   "source": [
    "# Function for downloading DGS Report PDF\n",
    "def dgs_pdf_downloader(index, report, date, urls):\n",
    "    \n",
    "    '''\n",
    "    \n",
    "    Uses the dataframe data and URL list and downloads all the Daily DGS Covid-19 PDF Reports, that aren't \n",
    "    in the Dataset_Resources folder.\n",
    "    \n",
    "    '''\n",
    "    # our Dataset directory\n",
    "    my_dir = \"Dataset_Resources\"\n",
    "    \n",
    "    # Check if our directory exists, if not make it\n",
    "    if not path.isdir(my_dir):\n",
    "        makedirs(my_dir)\n",
    "    \n",
    "    # A loop to check one by one, if we already have that daily report pdf, if not download it\n",
    "    for i in index:\n",
    "        if path.exists(f\"Dataset_Resources/dgs_covid19_report_{report[i]}_{date[i]}.pdf\"):\n",
    "            continue\n",
    "        elif i >= len(urls):\n",
    "            break\n",
    "        else:\n",
    "            url = urls[i]\n",
    "            pdf = requests.get(url)\n",
    "            open(f\"Dataset_Resources/dgs_covid19_report_{report[i]}_{date[i]}.pdf\", \"wb\").write(pdf.content)\n",
    "            \n",
    "    return None"
   ]
  },
  {
   "cell_type": "markdown",
   "metadata": {},
   "source": [
    "## Dowloading the DGS PDF's"
   ]
  },
  {
   "cell_type": "code",
   "execution_count": 5,
   "metadata": {},
   "outputs": [],
   "source": [
    "# Downloading the DGS PDF's\n",
    "# Uses our previous built function to Download the DGS Daily report PDF's\n",
    "dgs_pdf_downloader(df_dates.index, df_dates[\"Report\"], df_dates[\"Dates\"], urls)"
   ]
  }
 ],
 "metadata": {
  "kernelspec": {
   "display_name": "Python 3",
   "language": "python",
   "name": "python3"
  },
  "language_info": {
   "codemirror_mode": {
    "name": "ipython",
    "version": 3
   },
   "file_extension": ".py",
   "mimetype": "text/x-python",
   "name": "python",
   "nbconvert_exporter": "python",
   "pygments_lexer": "ipython3",
   "version": "3.8.5"
  }
 },
 "nbformat": 4,
 "nbformat_minor": 4
}
