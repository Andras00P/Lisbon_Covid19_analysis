{
 "cells": [
  {
   "cell_type": "markdown",
   "metadata": {},
   "source": [
    "# Downloading DGS Covid-19 Daily Report"
   ]
  },
  {
   "cell_type": "markdown",
   "metadata": {},
   "source": [
    "## Importing Libraries"
   ]
  },
  {
   "cell_type": "code",
   "execution_count": 1,
   "metadata": {},
   "outputs": [],
   "source": [
    "# Importing Libraries\n",
    "import urllib.request\n",
    "import pandas as pd\n",
    "from os import path"
   ]
  },
  {
   "cell_type": "markdown",
   "metadata": {},
   "source": [
    "## Creating reports id and date dataframe"
   ]
  },
  {
   "cell_type": "code",
   "execution_count": 2,
   "metadata": {},
   "outputs": [
    {
     "data": {
      "text/html": [
       "<div>\n",
       "<style scoped>\n",
       "    .dataframe tbody tr th:only-of-type {\n",
       "        vertical-align: middle;\n",
       "    }\n",
       "\n",
       "    .dataframe tbody tr th {\n",
       "        vertical-align: top;\n",
       "    }\n",
       "\n",
       "    .dataframe thead th {\n",
       "        text-align: right;\n",
       "    }\n",
       "</style>\n",
       "<table border=\"1\" class=\"dataframe\">\n",
       "  <thead>\n",
       "    <tr style=\"text-align: right;\">\n",
       "      <th></th>\n",
       "      <th>Report</th>\n",
       "      <th>Dates</th>\n",
       "    </tr>\n",
       "  </thead>\n",
       "  <tbody>\n",
       "    <tr>\n",
       "      <th>0</th>\n",
       "      <td>001</td>\n",
       "      <td>03032020</td>\n",
       "    </tr>\n",
       "    <tr>\n",
       "      <th>1</th>\n",
       "      <td>002</td>\n",
       "      <td>04032020</td>\n",
       "    </tr>\n",
       "    <tr>\n",
       "      <th>2</th>\n",
       "      <td>003</td>\n",
       "      <td>05032020</td>\n",
       "    </tr>\n",
       "    <tr>\n",
       "      <th>3</th>\n",
       "      <td>004</td>\n",
       "      <td>06032020</td>\n",
       "    </tr>\n",
       "    <tr>\n",
       "      <th>4</th>\n",
       "      <td>005</td>\n",
       "      <td>07032020</td>\n",
       "    </tr>\n",
       "    <tr>\n",
       "      <th>...</th>\n",
       "      <td>...</td>\n",
       "      <td>...</td>\n",
       "    </tr>\n",
       "    <tr>\n",
       "      <th>142</th>\n",
       "      <td>143</td>\n",
       "      <td>23072020</td>\n",
       "    </tr>\n",
       "    <tr>\n",
       "      <th>143</th>\n",
       "      <td>144</td>\n",
       "      <td>24072020</td>\n",
       "    </tr>\n",
       "    <tr>\n",
       "      <th>144</th>\n",
       "      <td>145</td>\n",
       "      <td>25072020</td>\n",
       "    </tr>\n",
       "    <tr>\n",
       "      <th>145</th>\n",
       "      <td>146</td>\n",
       "      <td>26072020</td>\n",
       "    </tr>\n",
       "    <tr>\n",
       "      <th>146</th>\n",
       "      <td>147</td>\n",
       "      <td>27072020</td>\n",
       "    </tr>\n",
       "  </tbody>\n",
       "</table>\n",
       "<p>147 rows × 2 columns</p>\n",
       "</div>"
      ],
      "text/plain": [
       "    Report     Dates\n",
       "0      001  03032020\n",
       "1      002  04032020\n",
       "2      003  05032020\n",
       "3      004  06032020\n",
       "4      005  07032020\n",
       "..     ...       ...\n",
       "142    143  23072020\n",
       "143    144  24072020\n",
       "144    145  25072020\n",
       "145    146  26072020\n",
       "146    147  27072020\n",
       "\n",
       "[147 rows x 2 columns]"
      ]
     },
     "execution_count": 2,
     "metadata": {},
     "output_type": "execute_result"
    }
   ],
   "source": [
    "# Creating reports id and date dataframe\n",
    "dates = pd.date_range(start=\"03-03-2020\", end=\"today\")\n",
    "\n",
    "#report = [str(x) for x in range(1, len(dates) + 1)]\n",
    "#report = [\"00\" + str(x) if x < 10 else str(x) for x in range(1, len(dates) + 1)]\n",
    "\n",
    "report = []\n",
    "for num in range(1, len(dates) + 1):\n",
    "    if num < 10:\n",
    "        report.append(\"00\" + str(num))\n",
    "    elif num < 100:\n",
    "        report.append(\"0\" + str(num))\n",
    "    else:\n",
    "        report.append(str(num))\n",
    "\n",
    "report_dates = {\"Report\":report, \"Dates\":dates}\n",
    "\n",
    "df_dates = pd.DataFrame(report_dates)\n",
    "df_dates[\"Dates\"] = df_dates[\"Dates\"].dt.strftime('%d-%m-%Y').apply(lambda x: x.replace(\"-\", \"\"))\n",
    "df_dates"
   ]
  },
  {
   "cell_type": "markdown",
   "metadata": {},
   "source": [
    "## Function for downloading DGS PDF's"
   ]
  },
  {
   "cell_type": "code",
   "execution_count": 3,
   "metadata": {},
   "outputs": [],
   "source": [
    "# Function for downloading DGS Report PDF\n",
    "def pdf_downloader(index, report, date):\n",
    "    for i in index:\n",
    "        if path.exists(\"Dataset_Resources/dgs_covid19_report_{r}_{d}.pdf\".format(r=report[i], d=date[i])):\n",
    "            continue\n",
    "        else:\n",
    "            url = f\"https://www.dgs.pt/em-destaque/relatorio-de-situacao-n-{report[i]}-{date[i]}-pdf.aspx\"\n",
    "            urllib.request.urlretrieve(url, r\"Dataset_Resources/dgs_covid19_report_{r}_{d}.pdf\".format(r=report[i], d=date[i]))\n",
    "    return None"
   ]
  },
  {
   "cell_type": "markdown",
   "metadata": {},
   "source": [
    "## Dowloading the PDF's"
   ]
  },
  {
   "cell_type": "code",
   "execution_count": 4,
   "metadata": {},
   "outputs": [],
   "source": [
    "# Downloading the PDF's \n",
    "pdf_downloader(df_dates.index, df_dates[\"Report\"], df_dates[\"Dates\"])"
   ]
  }
 ],
 "metadata": {
  "kernelspec": {
   "display_name": "Python 3",
   "language": "python",
   "name": "python3"
  },
  "language_info": {
   "codemirror_mode": {
    "name": "ipython",
    "version": 3
   },
   "file_extension": ".py",
   "mimetype": "text/x-python",
   "name": "python",
   "nbconvert_exporter": "python",
   "pygments_lexer": "ipython3",
   "version": "3.8.5"
  }
 },
 "nbformat": 4,
 "nbformat_minor": 4
}
